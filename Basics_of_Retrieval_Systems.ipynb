{
  "nbformat": 4,
  "nbformat_minor": 0,
  "metadata": {
    "colab": {
      "provenance": []
    },
    "kernelspec": {
      "name": "python3",
      "display_name": "Python 3"
    },
    "language_info": {
      "name": "python"
    }
  },
  "cells": [
    {
      "cell_type": "markdown",
      "source": [
        "# Libraries and Data"
      ],
      "metadata": {
        "id": "vj4TmlLuXV54"
      }
    },
    {
      "cell_type": "code",
      "source": [
        "# Sample documents about sailing in Croatia\n",
        "documents = ['Sailing in Croatia often includes visiting UNESCO World Heritage sites.',\n",
        " 'The Makarska Riviera is known for its stunning coastline and sailing opportunities.',\n",
        " 'Sailing in Croatia offers stunning views of the Adriatic Sea.',\n",
        " \"The city of Sibenik is home to the impressive St. James's Cathedral, a UNESCO World Heritage site.\",\n",
        " 'The island of Brač is known for its beautiful beaches and great sailing conditions.',\n",
        " 'Sailing to the island of Rab, known for its medieval old town, is a great experience.',\n",
        " 'The Pakleni Islands near Hvar are a popular spot for sailing yachts.',\n",
        " 'The island of Cres is one of the largest in Croatia and a great destination for sailing.',\n",
        " 'The island of Cres is one of the largest in Croatia and has a diverse wildlife.',\n",
        " 'The city of Zagreb is the capital of Croatia and offers a mix of modern and historic attractions.',\n",
        " 'Sailors can experience the traditional Dalmatian way of life in many coastal villages.',\n",
        " 'The city of Knin is known for its historic fortress and beautiful scenery.',\n",
        " 'The island of Krk is the largest island in the Adriatic Sea.',\n",
        " 'Croatia has a rich history dating back to the Roman Empire.',\n",
        " 'The island of Hvar is a popular destination for celebrities and high-end travelers.',\n",
        " 'The city of Varazdin is known for its baroque buildings and vibrant cultural scene.',\n",
        " 'Sailors can enjoy fresh seafood at many coastal restaurants in Croatia.',\n",
        " 'The coastal town of Senj is known for its carnival and Nehaj Fortress.',\n",
        " 'The Dalmatian Coast is a famous region for sailing in Croatia.',\n",
        " \"The Diocletian's Palace in Split is one of the most famous Roman ruins in Croatia.\",\n",
        " 'The island of Dugi Otok is known for its dramatic cliffs and beautiful sailing waters.',\n",
        " 'The island of Rab is famous for its medieval old town and stunning beaches.',\n",
        " 'The island of Mljet is home to a national park and is ideal for nature lovers.',\n",
        " 'Sailors in Croatia can visit ancient Roman ruins in Split.',\n",
        " 'The city of Kotor, just across the border in Montenegro, is a popular extension for Croatian sailing trips.',\n",
        " 'The island of Korcula is believed to be the birthplace of Marco Polo.',\n",
        " 'The town of Motovun in Istria is famous for its film festival.',\n",
        " 'The city of Nin is known for its ancient salt pans and historic church.',\n",
        " 'The city of Vukovar is known for its role in the Croatian War of Independence.',\n",
        " 'Sailing to the island of Lošinj, known for its health tourism, is a relaxing experience.',\n",
        " 'The island of Hvar is known for its vibrant nightlife and sailing opportunities.',\n",
        " 'The island of Korčula is believed to be the birthplace of Marco Polo and is a popular sailing destination.',\n",
        " 'Sailing in Croatia often involves stopping at picturesque fishing villages.',\n",
        " 'The city of Opatija is known for its grand villas and seaside promenade.',\n",
        " 'The city of Porec is known for the Euphrasian Basilica, a UNESCO World Heritage site.',\n",
        " 'The island of Brac is home to the famous Zlatni Rat beach, known for its changing shape.',\n",
        " 'Sailing around the island of Mljet offers a peaceful and scenic experience.',\n",
        " 'The Blue Cave on Biševo Island is a must-see for sailors.',\n",
        " 'The island of Pag is famous for its cheese and nightlife, and is a fun stop for sailors.',\n",
        " \"The island of Lastovo is one of Croatia's most remote and tranquil destinations.\",\n",
        " 'Sailors can enjoy snorkeling in the clear waters of the Adriatic Sea.',\n",
        " 'The city of Rovinj is a charming starting point for a sailing trip in Croatia.',\n",
        " \"Croatia's national parks, like Krka and Plitvice, are ideal for hiking and nature lovers.\",\n",
        " 'The city of Zadar is famous for its sunsets, which sailors can enjoy from the sea.',\n",
        " 'Croatia has over a thousand islands, each with its unique charm.',\n",
        " \"Croatia's Adriatic coast is dotted with charming fishing villages.\",\n",
        " 'Sailing to the island of Šolta offers a quiet escape from the more touristy areas.',\n",
        " 'Sailors in Croatia can explore over 1,200 islands.',\n",
        " 'Sailing in Croatia provides opportunities to visit ancient fortresses and castles along the coast.',\n",
        " 'Croatia is famous for its beautiful coastline and crystal-clear waters.',\n",
        " 'The island of Krk is accessible by bridge and is a popular starting point for sailing trips.',\n",
        " 'Sailing in Croatia is best enjoyed during the summer months.',\n",
        " 'The island of Pag is famous for its cheese, which is considered a delicacy.',\n",
        " 'The medieval town of Rovinj is one of the most picturesque places in Croatia.',\n",
        " 'The island of Losinj is famous for its health tourism and clean air.',\n",
        " 'The city of Dubrovnik, with its famous city walls, is a top destination for sailors.',\n",
        " 'Croatia has beautiful islands perfect for sailing.',\n",
        " 'Sailing in Croatia allows you to explore hidden coves and bays.',\n",
        " 'The city of Rijeka is an important cultural and economic center in Croatia.',\n",
        " 'The island of Mljet has a national park that is perfect for exploring by sailboat.',\n",
        " 'The Istrian Peninsula is famous for its truffles and gourmet food.',\n",
        " 'The town of Cavtat is a quieter alternative to nearby Dubrovnik.',\n",
        " 'The Peljesac Peninsula is known for its vineyards and wine production.',\n",
        " 'The Dubrovnik Summer Festival is a major cultural event featuring theater, music, and dance performances.',\n",
        " 'The city of Zadar is famous for its unique Sea Organ, an architectural sound art object.',\n",
        " 'The beaches in Croatia are among the best in Europe, with many receiving Blue Flag status.',\n",
        " 'Sailing around the island of Murter gives access to the Kornati Islands National Park.',\n",
        " 'The city of Trogir, with its historic architecture, is a great place to dock.',\n",
        " 'Sailing from Split to Dubrovnik offers breathtaking coastal scenery.',\n",
        " 'The Plitvice Lakes National Park is a UNESCO World Heritage site known for its stunning waterfalls and lakes.',\n",
        " 'The city of Hvar is one of the sunniest places in Europe and a popular sailing hub.',\n",
        " \"The city of Dubrovnik is often called the 'Pearl of the Adriatic'.\",\n",
        " 'The city of Osijek is located in the eastern part of Croatia and is known for its Baroque style.',\n",
        " 'The city of Pula, with its Roman amphitheater, is a unique sailing destination.',\n",
        " 'The town of Trogir is a UNESCO World Heritage site known for its medieval architecture.',\n",
        " 'Sailors in Croatia can enjoy local wines at many coastal vineyards.',\n",
        " 'Croatia has a Mediterranean climate, making it a great destination year-round.',\n",
        " 'Croatia has a diverse cultural heritage, with influences from Italy, Hungary, and Austria.',\n",
        " 'The city of Rijeka is an important cultural and historical sailing destination.',\n",
        " 'The best sailing routes in Croatia include Dubrovnik and Split.',\n",
        " 'The Brijuni Islands are a national park and a former presidential retreat.',\n",
        " 'Sailing to the Elaphiti Islands offers a mix of natural beauty and cultural sites.',\n",
        " 'Croatia is known for its delicious seafood cuisine.',\n",
        " 'The ancient city of Pula is known for its well-preserved Roman amphitheater.',\n",
        " 'The city of Opatija is a historical seaside resort that welcomes sailors.',\n",
        " 'The waters around Croatia are known for being calm and clear, ideal for sailing.',\n",
        " 'The Kornati Islands National Park is a popular sailing destination in Croatia.',\n",
        " \"Sailing around the Brijuni Islands offers a glimpse of Croatia's natural beauty and wildlife.\",\n",
        " 'The island of Vis was a military base and was closed to tourism until the 1990s.',\n",
        " 'The city of Split is a major port and gateway to the Dalmatian islands.',\n",
        " 'Sailing to the island of Vis provides access to the famous Blue Cave.',\n",
        " \"The city of Buzet in Istria is known as the 'City of Truffles'.\",\n",
        " 'The city of Karlovac is known for its parks and the rivers that flow through it.',\n",
        " 'Sailing to the island of Vis allows you to experience a more remote part of Croatia.',\n",
        " 'The city of Šibenik is a UNESCO World Heritage site and a great stop for sailors.',\n",
        " \"The town of Samobor is famous for its traditional cream cake called 'kremsnita'.\",\n",
        " 'Sailing around the island of Lastovo provides a more secluded experience.',\n",
        " \"Croatia's wine regions produce some excellent wines, especially in Istria and Dalmatia.\",\n",
        " 'Many sailors start their Croatian adventure from the city of Zadar.',\n",
        " 'The coastal town of Makarska is known for its beautiful beaches and lively nightlife.']"
      ],
      "metadata": {
        "id": "TrA2UFP-XkKy"
      },
      "execution_count": 10,
      "outputs": []
    },
    {
      "cell_type": "code",
      "source": [
        "# import libraries\n",
        "import nltk\n",
        "from sklearn.feature_extraction.text import TfidfVectorizer\n",
        "import numpy as np"
      ],
      "metadata": {
        "id": "z5_iUQ6BN3Ei"
      },
      "execution_count": 1,
      "outputs": []
    },
    {
      "cell_type": "code",
      "source": [
        "# Download the 'punkt' tokenizer model\n",
        "nltk.download('punkt_tab')\n",
        "# Download the 'stopwords' corpus from nltk\n",
        "nltk.download('stopwords')"
      ],
      "metadata": {
        "colab": {
          "base_uri": "https://localhost:8080/"
        },
        "id": "eXj5kv3MN3HY",
        "outputId": "1006c8de-6efe-457f-e49a-85d93ec65c92"
      },
      "execution_count": 2,
      "outputs": [
        {
          "output_type": "stream",
          "name": "stderr",
          "text": [
            "[nltk_data] Downloading package punkt_tab to /root/nltk_data...\n",
            "[nltk_data]   Unzipping tokenizers/punkt_tab.zip.\n",
            "[nltk_data] Downloading package stopwords to /root/nltk_data...\n",
            "[nltk_data]   Unzipping corpora/stopwords.zip.\n"
          ]
        },
        {
          "output_type": "execute_result",
          "data": {
            "text/plain": [
              "True"
            ]
          },
          "metadata": {},
          "execution_count": 2
        }
      ]
    },
    {
      "cell_type": "markdown",
      "source": [
        "## Tokenization"
      ],
      "metadata": {
        "id": "Sg-42d-uOCME"
      }
    },
    {
      "cell_type": "code",
      "source": [
        "# Sample text, test with 2 sentences\n",
        "text = 'Croatia wine regions produce some excellent wines, especially in Istria and Dalmatia. Croatia has a Mediterranean climate, making it a great destination year-round.'"
      ],
      "metadata": {
        "id": "Q0_pddJCN_Ht"
      },
      "execution_count": 4,
      "outputs": []
    },
    {
      "cell_type": "code",
      "source": [
        "# Tokenize the text into sentence\n",
        "sentence_tokens = nltk.sent_tokenize(text)\n",
        "print(f\"sentence_tokens:  {sentence_tokens}\")"
      ],
      "metadata": {
        "colab": {
          "base_uri": "https://localhost:8080/"
        },
        "id": "sSCJREG6OFY5",
        "outputId": "ae959301-acb6-4511-bd4f-c941415abfcf"
      },
      "execution_count": 6,
      "outputs": [
        {
          "output_type": "stream",
          "name": "stdout",
          "text": [
            "sentence_tokens:  ['Croatia wine regions produce some excellent wines, especially in Istria and Dalmatia.', 'Croatia has a Mediterranean climate, making it a great destination year-round.']\n"
          ]
        }
      ]
    },
    {
      "cell_type": "markdown",
      "source": [
        "## Preprocessing"
      ],
      "metadata": {
        "id": "0yNGSmdsOXmP"
      }
    },
    {
      "cell_type": "code",
      "source": [
        "# check the stop words\n",
        "print('The stop words are: ' ,nltk.corpus.stopwords.words(\"english\"))"
      ],
      "metadata": {
        "colab": {
          "base_uri": "https://localhost:8080/"
        },
        "id": "_H8svLfXOiCO",
        "outputId": "eb264264-2634-4a17-8836-7199cc0c7ec4"
      },
      "execution_count": 8,
      "outputs": [
        {
          "output_type": "stream",
          "name": "stdout",
          "text": [
            "The stop words are:  ['i', 'me', 'my', 'myself', 'we', 'our', 'ours', 'ourselves', 'you', \"you're\", \"you've\", \"you'll\", \"you'd\", 'your', 'yours', 'yourself', 'yourselves', 'he', 'him', 'his', 'himself', 'she', \"she's\", 'her', 'hers', 'herself', 'it', \"it's\", 'its', 'itself', 'they', 'them', 'their', 'theirs', 'themselves', 'what', 'which', 'who', 'whom', 'this', 'that', \"that'll\", 'these', 'those', 'am', 'is', 'are', 'was', 'were', 'be', 'been', 'being', 'have', 'has', 'had', 'having', 'do', 'does', 'did', 'doing', 'a', 'an', 'the', 'and', 'but', 'if', 'or', 'because', 'as', 'until', 'while', 'of', 'at', 'by', 'for', 'with', 'about', 'against', 'between', 'into', 'through', 'during', 'before', 'after', 'above', 'below', 'to', 'from', 'up', 'down', 'in', 'out', 'on', 'off', 'over', 'under', 'again', 'further', 'then', 'once', 'here', 'there', 'when', 'where', 'why', 'how', 'all', 'any', 'both', 'each', 'few', 'more', 'most', 'other', 'some', 'such', 'no', 'nor', 'not', 'only', 'own', 'same', 'so', 'than', 'too', 'very', 's', 't', 'can', 'will', 'just', 'don', \"don't\", 'should', \"should've\", 'now', 'd', 'll', 'm', 'o', 're', 've', 'y', 'ain', 'aren', \"aren't\", 'couldn', \"couldn't\", 'didn', \"didn't\", 'doesn', \"doesn't\", 'hadn', \"hadn't\", 'hasn', \"hasn't\", 'haven', \"haven't\", 'isn', \"isn't\", 'ma', 'mightn', \"mightn't\", 'mustn', \"mustn't\", 'needn', \"needn't\", 'shan', \"shan't\", 'shouldn', \"shouldn't\", 'wasn', \"wasn't\", 'weren', \"weren't\", 'won', \"won't\", 'wouldn', \"wouldn't\"]\n"
          ]
        }
      ]
    },
    {
      "cell_type": "code",
      "source": [
        "# Process the text, tokenize, lower case, only alphanumeric, no stopwords\n",
        "\n",
        "def process_text(text):\n",
        "# convert text to lower case\n",
        "  processed_text = text.lower()\n",
        "  # Tokenize the text\n",
        "  processed_text = nltk.word_tokenize(text)\n",
        "  # keep only alphanumeric words\n",
        "  processed_text = [word for word in processed_text if word.isalnum()]\n",
        "  # exclude the stop words\n",
        "  processed_text = [word for word in processed_text if word not in nltk.corpus.stopwords.words(\"english\")]\n",
        "  return processed_text"
      ],
      "metadata": {
        "id": "1_CbmhNjONTe"
      },
      "execution_count": 7,
      "outputs": []
    },
    {
      "cell_type": "code",
      "source": [
        "# apply the function to the doc\n",
        "processed_docs = [' '.join(process_text(doc)) for doc in documents]"
      ],
      "metadata": {
        "id": "WBZ2kHPNOfXO"
      },
      "execution_count": 11,
      "outputs": []
    },
    {
      "cell_type": "code",
      "source": [
        "#haha"
      ],
      "metadata": {
        "id": "64SsDykrOs4M"
      },
      "execution_count": null,
      "outputs": []
    }
  ]
}